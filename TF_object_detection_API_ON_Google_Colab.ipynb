{
  "nbformat": 4,
  "nbformat_minor": 0,
  "metadata": {
    "colab": {
      "name": "Untitled23.ipynb",
      "version": "0.3.2",
      "provenance": []
    },
    "kernelspec": {
      "name": "python3",
      "display_name": "Python 3"
    },
    "accelerator": "GPU"
  },
  "cells": [
    {
      "metadata": {
        "id": "yqi5MCan29cm",
        "colab_type": "code",
        "colab": {}
      },
      "cell_type": "code",
      "source": [
        "#!apt-get install protobuf-compiler python-pil python-lxml python-tk\n",
        "#!pip install Cython\n",
        "#!git clone https://github.com/tensorflow/models.git\n",
        "#!cd models/research; protoc object_detection/protos/*.proto --python_out=.\n",
        "#!cd models/research; export PYTHONPATH=$PYTHONPATH:`pwd`:`pwd`/slim:; python object_detection/builders/model_builder_test.py\n",
        "#!git clone https://github.com/EdjeElectronics/TensorFlow-Object-Detection-API-Tutorial-Train-Multiple-Objects-Windows-10.git\n",
        "import sys, os\n",
        "sys.path.append('/models/research')\n",
        "sys.path.append('/models/research/slim')\n",
        "sys.path.append('/models/research/object_detection')\n",
        "os.environ['PYTHONPATH'] += \":/models:/models/research:/models/research/slim/\"\n",
        "os.environ['PYTHONPATH'] += \":/content/models:/content/models/research:/content/models/research/slim/\""
      ],
      "execution_count": 0,
      "outputs": []
    },
    {
      "metadata": {
        "id": "5ls-H10z5UR2",
        "colab_type": "code",
        "colab": {}
      },
      "cell_type": "code",
      "source": [
        "#!wget http://download.tensorflow.org/models/object_detection/faster_rcnn_inception_v2_coco_2018_01_28.tar.gz\n",
        "#!tar -xvzf faster_rcnn_inception_v2_coco_2018_01_28.tar.gz\n",
        "#!wget http://download.tensorflow.org/models/object_detection/ssd_mobilenet_v1_coco_2018_01_28.tar.gz\n",
        "#!tar -xvzf ssd_mobilenet_v1_coco_2018_01_28.tar.gz"
      ],
      "execution_count": 0,
      "outputs": []
    },
    {
      "metadata": {
        "id": "rWfPWkJA5ow_",
        "colab_type": "code",
        "colab": {}
      },
      "cell_type": "code",
      "source": [
        "#!rm TensorFlow-Object-Detection-API-Tutorial-Train-Multiple-Objects-Windows-10/images/train/*\n",
        "#!rm TensorFlow-Object-Detection-API-Tutorial-Train-Multiple-Objects-Windows-10/images/test/*\n",
        "#!rm TensorFlow-Object-Detection-API-Tutorial-Train-Multiple-Objects-Windows-10/images/test_labels.csv\n",
        "#!rm TensorFlow-Object-Detection-API-Tutorial-Train-Multiple-Objects-Windows-10/images/train_labels.csv\n",
        "#!rm TensorFlow-Object-Detection-API-Tutorial-Train-Multiple-Objects-Windows-10/training/*\n",
        "#!rm TensorFlow-Object-Detection-API-Tutorial-Train-Multiple-Objects-Windows-10/inference_graph/*"
      ],
      "execution_count": 0,
      "outputs": []
    },
    {
      "metadata": {
        "id": "twSJMsd-7Vqn",
        "colab_type": "code",
        "colab": {}
      },
      "cell_type": "code",
      "source": [
        "#/content/TensorFlow-Object-Detection-API-Tutorial-Train-Multiple-Objects-Windows-10/images/train\n",
        "#/content/TensorFlow-Object-Detection-API-Tutorial-Train-Multiple-Objects-Windows-10/images/test\n",
        "#!unzip train.zip -d ./TensorFlow-Object-Detection-API-Tutorial-Train-Multiple-Objects-Windows-10/images/train/\n",
        "#!unzip test.zip -d ./TensorFlow-Object-Detection-API-Tutorial-Train-Multiple-Objects-Windows-10/images/test/\n",
        "#!cd TensorFlow-Object-Detection-API-Tutorial-Train-Multiple-Objects-Windows-10/;python xml_to_csv.py"
      ],
      "execution_count": 0,
      "outputs": []
    },
    {
      "metadata": {
        "id": "bsa-l1-4Svyu",
        "colab_type": "code",
        "colab": {}
      },
      "cell_type": "code",
      "source": [
        "## EDIT generate_tfrecord.py first \n",
        "#!mv generate_tfrecord.py TensorFlow-Object-Detection-API-Tutorial-Train-Multiple-Objects-Windows-10/"
      ],
      "execution_count": 0,
      "outputs": []
    },
    {
      "metadata": {
        "id": "yzKapoeqUcQI",
        "colab_type": "code",
        "colab": {}
      },
      "cell_type": "code",
      "source": [
        "!mv TensorFlow-Object-Detection-API-Tutorial-Train-Multiple-Objects-Windows-10/* ./\n",
        "!cd models/research/; python setup.py build\n",
        "!cd models/research/; python setup.py install\n",
        "#!python generate_tfrecord.py --csv_input=images/train_labels.csv --image_dir=images/train --output_path=train.record\n",
        "#!python generate_tfrecord.py --csv_input=images/test_labels.csv --image_dir=images/test --output_path=test.record"
      ],
      "execution_count": 0,
      "outputs": []
    },
    {
      "metadata": {
        "id": "og31dIjdaXsM",
        "colab_type": "code",
        "colab": {}
      },
      "cell_type": "code",
      "source": [
        "#!mkdir models/research/object_detection/training\n",
        "#!mv labelmap.pbtxt models/research/object_detection/training/"
      ],
      "execution_count": 0,
      "outputs": []
    },
    {
      "metadata": {
        "id": "riSNWoBwbDiq",
        "colab_type": "code",
        "colab": {}
      },
      "cell_type": "code",
      "source": [
        "#!cp models/research/object_detection/samples/configs/faster_rcnn_inception_v2_pets.config ./training/"
      ],
      "execution_count": 0,
      "outputs": []
    },
    {
      "metadata": {
        "id": "we1WQb3bdxtx",
        "colab_type": "code",
        "colab": {}
      },
      "cell_type": "code",
      "source": [
        "\n",
        "#!cd faster_rcnn_inception_v2_coco_2018_01_28/;pwd\n",
        "#!mv faster_rcnn_inception_v2_pets.config ./training/\n",
        "#!cp models/research/object_detection/legacy/train.py models/research/object_detection/\n",
        "#!cp faster_rcnn_inception_v2_pets.config models/research/object_detection/training/\n",
        "!cd models/research/object_detection/; python train.py --logtostderr --train_dir=training/ --pipeline_config_path=training/faster_rcnn_inception_v2_pets.config"
      ],
      "execution_count": 0,
      "outputs": []
    },
    {
      "metadata": {
        "id": "vr6mWSLfmCmF",
        "colab_type": "code",
        "colab": {}
      },
      "cell_type": "code",
      "source": [
        "!cd models/research/object_detection/;python export_inference_graph.py --input_type image_tensor --pipeline_config_path training/faster_rcnn_inception_v2_pets.config --trained_checkpoint_prefix training/model.ckpt-11177 --output_directory inference_graph"
      ],
      "execution_count": 0,
      "outputs": []
    },
    {
      "metadata": {
        "id": "lfAIgYMqgkNc",
        "colab_type": "code",
        "colab": {}
      },
      "cell_type": "code",
      "source": [
        "#!echo $PYTHONPATH\n",
        "#!rm -rf models/research/object_detection/training/\n",
        "#!mkdir models/research/object_detection/training\n",
        "#!cp labelmap.pbtxt models/research/object_detection/training/\n",
        "!cp faster_rcnn_inception_v2_pets.config models/research/object_detection/training/\n",
        "#!cp ssd_mobilenet_v1_coco.config models/research/object_detection/training/\n",
        "#!cd models/research/slim/nets/\n",
        "#!cd models/;export PYTHONPATH=$PYTHONPATH:pwd:pwd/slim"
      ],
      "execution_count": 0,
      "outputs": []
    },
    {
      "metadata": {
        "id": "Mi_xNP1IqUlU",
        "colab_type": "code",
        "colab": {}
      },
      "cell_type": "code",
      "source": [
        "!cp -r models/research/object_detection/inference_graph ./"
      ],
      "execution_count": 0,
      "outputs": []
    },
    {
      "metadata": {
        "id": "7wfy-ilJqmUH",
        "colab_type": "code",
        "colab": {}
      },
      "cell_type": "code",
      "source": [
        "#!rm -rf inference_graph/*"
      ],
      "execution_count": 0,
      "outputs": []
    },
    {
      "metadata": {
        "id": "9K4sb2GxlqGP",
        "colab_type": "code",
        "colab": {}
      },
      "cell_type": "code",
      "source": [
        "!zip -r faster-rcnn_11177_epoch_1_nonmax_suppress.zip inference_graph/*"
      ],
      "execution_count": 0,
      "outputs": []
    },
    {
      "metadata": {
        "id": "uLfFNdsOscJA",
        "colab_type": "code",
        "outputId": "c073d942-97ee-464d-ef7e-a67d98cae000",
        "colab": {
          "base_uri": "https://localhost:8080/",
          "height": 105
        }
      },
      "cell_type": "code",
      "source": [
        "import tensorflow as tf\n",
        "import numpy as np\n",
        "import cv2\n",
        "\n",
        "class ObjectDetect():\n",
        "\n",
        "    counter = 0\n",
        "    def __init__(self):\n",
        "        self.g2 = tf.Graph()\n",
        "        with self.g2.as_default():\n",
        "            self.sess = tf.Session(graph=self.g2)\n",
        "            with self.sess.as_default():\n",
        "                saver = tf.train.import_meta_graph('inference_graph/model.ckpt.meta')\n",
        "                saver.restore(self.sess, \"inference_graph/model.ckpt\")\n",
        "\n",
        "    def pedd(self,img):\n",
        "      img_list = [img]\n",
        "      with self.g2.as_default(),self.sess.as_default():\n",
        "          ip = tf.get_default_graph().get_tensor_by_name(\"image_tensor:0\")\n",
        "          boxes = tf.get_default_graph().get_tensor_by_name(\"detection_boxes:0\")\n",
        "          scores = tf.get_default_graph().get_tensor_by_name(\"detection_scores:0\")\n",
        "          classes = tf.get_default_graph().get_tensor_by_name(\"detection_classes:0\")\n",
        "          b,s,c  = self.sess.run([boxes,scores,classes], feed_dict={ip: img_list})\n",
        "\n",
        "      b = np.squeeze(b)\n",
        "      bbs = []\n",
        "      print(c)\n",
        "      b = [b]\n",
        "      for i in range(len(b)):\n",
        "            #if((b[i][0]>0 or b[i][0]>0 or b[i][0]>0 or b[i][0]>0) and c[0][i]==1 and s[0][i]>0.4):\n",
        "            \n",
        "            if ((b[i][0] > 0 or b[i][0] > 0 or b[i][0] > 0 or b[i][0] > 0)):\n",
        "              y1,x1,y2,x2 = int(b[i][0]*img.shape[0]), int(b[i][1]*img.shape[1]), int(b[i][2]*img.shape[0]), int(b[i][3]*img.shape[1])\n",
        "              #cv2.imwrite('videos/'+str(self.counter)+str(i)+'.jpg',img[y1:y2, x1:x2])\n",
        "              #self.counter += 1\n",
        "\n",
        "              bbs.append([x1,y1,x2,y2])\n",
        "\n",
        "      new_bbs = bbs\n",
        "      for i in new_bbs:\n",
        "          x1,y1,x2,y2 = i[0],i[1],i[2],i[3]\n",
        "          cv2.rectangle(img, (x1, y1), (x2, y2), (0, 255, 0), 2)\n",
        "      return img,new_bbs\n",
        "\n",
        "\n",
        "od = ObjectDetect()\n",
        "  "
      ],
      "execution_count": 20,
      "outputs": [
        {
          "output_type": "stream",
          "text": [
            "WARNING:tensorflow:From /usr/local/lib/python3.6/dist-packages/tensorflow/python/training/saver.py:1266: checkpoint_exists (from tensorflow.python.training.checkpoint_management) is deprecated and will be removed in a future version.\n",
            "Instructions for updating:\n",
            "Use standard file APIs to check for files with this prefix.\n",
            "INFO:tensorflow:Restoring parameters from inference_graph/model.ckpt\n"
          ],
          "name": "stdout"
        }
      ]
    },
    {
      "metadata": {
        "id": "MdJNVpvogUli",
        "colab_type": "code",
        "colab": {}
      },
      "cell_type": "code",
      "source": [
        "#!unzip test.zip"
      ],
      "execution_count": 0,
      "outputs": []
    },
    {
      "metadata": {
        "id": "PZ4BqqUdtXLw",
        "colab_type": "code",
        "outputId": "e44e2727-9c29-466c-eb55-cdcae328f718",
        "colab": {
          "base_uri": "https://localhost:8080/",
          "height": 51
        }
      },
      "cell_type": "code",
      "source": [
        "frame = cv2.imread('negative_image.png')\n",
        "frame,bbs = od.pedd(frame)\n",
        "cv2.imwrite('out.jpg',frame)"
      ],
      "execution_count": 22,
      "outputs": [
        {
          "output_type": "stream",
          "text": [
            "[[1.]]\n"
          ],
          "name": "stdout"
        },
        {
          "output_type": "execute_result",
          "data": {
            "text/plain": [
              "True"
            ]
          },
          "metadata": {
            "tags": []
          },
          "execution_count": 22
        }
      ]
    }
  ]
}